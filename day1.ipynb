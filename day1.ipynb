{
 "cells": [
  {
   "cell_type": "code",
   "execution_count": 43,
   "id": "eb316129",
   "metadata": {},
   "outputs": [],
   "source": [
    "import cv2  #openCV的读取格式默认是BGR而不是RGB\n",
    "import matplotlib.pyplot as plt\n",
    "import numpy as np\n",
    "%matplotlib inline\n",
    "\n",
    "img=cv2.imread('Lena.jpg')"
   ]
  },
  {
   "cell_type": "code",
   "execution_count": 44,
   "id": "6db29161",
   "metadata": {
    "scrolled": true
   },
   "outputs": [
    {
     "data": {
      "text/plain": [
       "array([[[123, 137, 225],\n",
       "        [123, 137, 225],\n",
       "        [120, 137, 224],\n",
       "        ...,\n",
       "        [131, 140, 238],\n",
       "        [131, 145, 241],\n",
       "        [103, 120, 213]],\n",
       "\n",
       "       [[123, 137, 225],\n",
       "        [121, 138, 225],\n",
       "        [121, 138, 225],\n",
       "        ...,\n",
       "        [140, 144, 239],\n",
       "        [136, 144, 237],\n",
       "        [102, 113, 203]],\n",
       "\n",
       "       [[120, 137, 224],\n",
       "        [120, 137, 224],\n",
       "        [120, 136, 225],\n",
       "        ...,\n",
       "        [133, 128, 219],\n",
       "        [125, 122, 208],\n",
       "        [ 94,  94, 178]],\n",
       "\n",
       "       ...,\n",
       "\n",
       "       [[ 59,  28,  91],\n",
       "        [ 61,  27,  92],\n",
       "        [ 63,  26,  94],\n",
       "        ...,\n",
       "        [ 75,  56, 143],\n",
       "        [ 81,  62, 155],\n",
       "        [ 82,  64, 158]],\n",
       "\n",
       "       [[ 55,  26,  89],\n",
       "        [ 58,  26,  91],\n",
       "        [ 62,  25,  93],\n",
       "        ...,\n",
       "        [ 82,  64, 153],\n",
       "        [ 85,  69, 163],\n",
       "        [ 84,  70, 166]],\n",
       "\n",
       "       [[ 54,  25,  88],\n",
       "        [ 60,  28,  93],\n",
       "        [ 64,  27,  95],\n",
       "        ...,\n",
       "        [ 90,  74, 162],\n",
       "        [ 90,  76, 172],\n",
       "        [ 88,  75, 173]]], dtype=uint8)"
      ]
     },
     "execution_count": 44,
     "metadata": {},
     "output_type": "execute_result"
    }
   ],
   "source": [
    "img"
   ]
  },
  {
   "cell_type": "code",
   "execution_count": null,
   "id": "43a2c729",
   "metadata": {},
   "outputs": [],
   "source": []
  },
  {
   "cell_type": "code",
   "execution_count": 45,
   "id": "e35398e6",
   "metadata": {},
   "outputs": [],
   "source": [
    "cv2.imshow('pic',img)\n",
    "cv2.waitKey(0)\n",
    "cv2.destroyAllWindows()"
   ]
  },
  {
   "cell_type": "code",
   "execution_count": 46,
   "id": "1e2a8caa",
   "metadata": {
    "scrolled": true
   },
   "outputs": [
    {
     "data": {
      "text/plain": [
       "array([[[123, 137, 225],\n",
       "        [123, 137, 225],\n",
       "        [120, 137, 224],\n",
       "        ...,\n",
       "        [131, 140, 238],\n",
       "        [131, 145, 241],\n",
       "        [103, 120, 213]],\n",
       "\n",
       "       [[123, 137, 225],\n",
       "        [121, 138, 225],\n",
       "        [121, 138, 225],\n",
       "        ...,\n",
       "        [140, 144, 239],\n",
       "        [136, 144, 237],\n",
       "        [102, 113, 203]],\n",
       "\n",
       "       [[120, 137, 224],\n",
       "        [120, 137, 224],\n",
       "        [120, 136, 225],\n",
       "        ...,\n",
       "        [133, 128, 219],\n",
       "        [125, 122, 208],\n",
       "        [ 94,  94, 178]],\n",
       "\n",
       "       ...,\n",
       "\n",
       "       [[ 59,  28,  91],\n",
       "        [ 61,  27,  92],\n",
       "        [ 63,  26,  94],\n",
       "        ...,\n",
       "        [ 75,  56, 143],\n",
       "        [ 81,  62, 155],\n",
       "        [ 82,  64, 158]],\n",
       "\n",
       "       [[ 55,  26,  89],\n",
       "        [ 58,  26,  91],\n",
       "        [ 62,  25,  93],\n",
       "        ...,\n",
       "        [ 82,  64, 153],\n",
       "        [ 85,  69, 163],\n",
       "        [ 84,  70, 166]],\n",
       "\n",
       "       [[ 54,  25,  88],\n",
       "        [ 60,  28,  93],\n",
       "        [ 64,  27,  95],\n",
       "        ...,\n",
       "        [ 90,  74, 162],\n",
       "        [ 90,  76, 172],\n",
       "        [ 88,  75, 173]]], dtype=uint8)"
      ]
     },
     "execution_count": 46,
     "metadata": {},
     "output_type": "execute_result"
    }
   ],
   "source": [
    "img"
   ]
  },
  {
   "cell_type": "code",
   "execution_count": 47,
   "id": "75dccc46",
   "metadata": {},
   "outputs": [
    {
     "data": {
      "text/plain": [
       "array([[162, 162, 161, ..., 168, 172, 146],\n",
       "       [162, 162, 162, ..., 172, 171, 139],\n",
       "       [161, 161, 161, ..., 156, 148, 119],\n",
       "       ...,\n",
       "       [ 50,  50,  51, ...,  84,  92,  94],\n",
       "       [ 48,  49,  50, ...,  93,  99, 100],\n",
       "       [ 47,  51,  52, ..., 102, 106, 106]], dtype=uint8)"
      ]
     },
     "execution_count": 47,
     "metadata": {},
     "output_type": "execute_result"
    }
   ],
   "source": [
    "img=cv2.imread('Lena.jpg',cv2.IMREAD_GRAYSCALE)\n",
    "img"
   ]
  },
  {
   "cell_type": "code",
   "execution_count": 58,
   "id": "94489c0e",
   "metadata": {},
   "outputs": [
    {
     "ename": "AttributeError",
     "evalue": "module 'cv2' has no attribute 'im2bw'",
     "output_type": "error",
     "traceback": [
      "\u001b[1;31m---------------------------------------------------------------------------\u001b[0m",
      "\u001b[1;31mAttributeError\u001b[0m                            Traceback (most recent call last)",
      "Cell \u001b[1;32mIn[58], line 1\u001b[0m\n\u001b[1;32m----> 1\u001b[0m binary\u001b[38;5;241m=\u001b[39mcv2\u001b[38;5;241m.\u001b[39mim2bw(img,\u001b[38;5;241m0.2\u001b[39m)\n\u001b[0;32m      2\u001b[0m imshow(binary)\n",
      "\u001b[1;31mAttributeError\u001b[0m: module 'cv2' has no attribute 'im2bw'"
     ]
    }
   ],
   "source": [
    "binary=cv2.im2bw(img,0.2)\n",
    "imshow(binary)"
   ]
  },
  {
   "cell_type": "code",
   "execution_count": 50,
   "id": "744d131a",
   "metadata": {},
   "outputs": [
    {
     "data": {
      "text/plain": [
       "True"
      ]
     },
     "execution_count": 50,
     "metadata": {},
     "output_type": "execute_result"
    }
   ],
   "source": [
    "cv2.imwrite('gray.jpg',img)"
   ]
  },
  {
   "cell_type": "code",
   "execution_count": 51,
   "id": "9bd8b293",
   "metadata": {
    "scrolled": true
   },
   "outputs": [
    {
     "data": {
      "text/plain": [
       "array([[162, 162, 161, 161, 161, 161, 160, 159, 158, 158, 158, 156, 155,\n",
       "        154, 155, 156, 156, 158, 161, 164, 167, 170, 173, 175, 172, 171,\n",
       "        168, 161, 153, 145, 129, 110,  97,  92,  94, 101, 102, 104, 106,\n",
       "        105, 109, 107, 106, 108, 109, 109, 109, 110, 109, 108, 107, 106,\n",
       "        109, 114, 118, 119, 118, 123, 123, 124, 127, 126, 126, 129, 133,\n",
       "        130, 129, 130, 133, 134, 132, 129, 129, 129, 129, 129, 130, 132,\n",
       "        134, 136, 132, 134, 135, 134, 133, 133, 133, 132, 136, 134, 133,\n",
       "        134, 135, 136, 134, 132, 135, 135, 136, 137, 137, 136, 135, 134,\n",
       "        136, 135, 133, 131, 130, 130, 131, 132, 131, 133, 134, 133, 131,\n",
       "        132, 132, 131, 137, 135, 135, 136, 135, 132, 132, 134, 140, 135,\n",
       "        130, 130, 133, 134, 133, 130, 126, 130, 130, 133, 127, 130, 128,\n",
       "        132, 129, 130, 129, 127, 128, 129, 130, 129, 122, 122, 120, 118,\n",
       "        117, 115, 109, 103, 110, 117, 127, 136, 143, 149, 154, 157, 159,\n",
       "        162, 160, 153, 150, 152, 153, 152, 152, 154, 156, 156, 156, 157,\n",
       "        155, 153, 152, 154, 154, 152, 152, 154, 155, 155, 153, 156, 157,\n",
       "        156, 157, 159, 158, 154, 156, 167, 195, 208, 210, 218, 219, 216,\n",
       "        220, 208, 182, 139, 104, 101, 110, 107, 116, 121, 118, 122, 124,\n",
       "        119, 121, 122, 124, 123, 122, 122, 122, 122, 122, 122, 124, 124,\n",
       "        124, 125, 127, 126, 123, 120, 126, 127, 129, 126, 123, 127, 128,\n",
       "        122, 119, 117, 118, 124, 152, 168, 172, 146],\n",
       "       [162, 162, 162, 161, 161, 160, 159, 158, 158, 158, 157, 156, 154,\n",
       "        154, 154, 155, 155, 157, 160, 164, 167, 170, 172, 174, 172, 170,\n",
       "        168, 160, 151, 143, 129, 110,  98,  92,  93,  99, 101, 103, 107,\n",
       "        107, 109, 107, 106, 108, 109, 108, 108, 109, 109, 108, 107, 107,\n",
       "        110, 113, 117, 118, 116, 121, 122, 123, 127, 127, 127, 131, 132,\n",
       "        130, 129, 130, 133, 133, 132, 129, 129, 130, 130, 130, 130, 131,\n",
       "        133, 134, 131, 134, 135, 134, 133, 134, 133, 132, 135, 133, 132,\n",
       "        133, 134, 134, 133, 132, 135, 135, 136, 136, 135, 134, 134, 133,\n",
       "        136, 135, 133, 131, 130, 130, 131, 131, 130, 133, 134, 132, 131,\n",
       "        131, 132, 132, 134, 133, 133, 134, 133, 130, 131, 132, 139, 135,\n",
       "        130, 129, 131, 133, 132, 130, 127, 131, 130, 134, 128, 130, 128,\n",
       "        132, 129, 130, 129, 127, 127, 129, 129, 128, 121, 122, 122, 119,\n",
       "        116, 113, 109, 104, 108, 116, 127, 137, 142, 148, 154, 158, 158,\n",
       "        161, 160, 154, 150, 152, 153, 152, 152, 154, 155, 155, 155, 156,\n",
       "        155, 153, 152, 153, 153, 152, 152, 154, 155, 154, 153, 156, 158,\n",
       "        156, 157, 160, 158, 154, 155, 169, 197, 209, 210, 218, 219, 218,\n",
       "        216, 205, 180, 138, 103, 100, 110, 110, 116, 121, 118, 122, 124,\n",
       "        119, 121, 122, 124, 123, 122, 121, 121, 121, 122, 122, 125, 124,\n",
       "        124, 125, 126, 126, 123, 121, 127, 126, 127, 124, 122, 126, 127,\n",
       "        121, 116, 114, 113, 119, 151, 172, 171, 139]], dtype=uint8)"
      ]
     },
     "execution_count": 51,
     "metadata": {},
     "output_type": "execute_result"
    }
   ],
   "source": [
    "top2_line=img[:2,:]\n",
    "top2_line"
   ]
  },
  {
   "cell_type": "code",
   "execution_count": 52,
   "id": "5ac2bee7",
   "metadata": {},
   "outputs": [
    {
     "data": {
      "text/plain": [
       "True"
      ]
     },
     "execution_count": 52,
     "metadata": {},
     "output_type": "execute_result"
    }
   ],
   "source": [
    "import numpy\n",
    "average=numpy.mean(top2_line)\n",
    "median=numpy.median(top2_line)\n",
    "ret, thresh1=cv2.threshold(img,average,255,cv2.THRESH_BINARY)\n",
    "ret, thresh2=cv2.threshold(img,median,255,cv2.THRESH_BINARY)\n",
    "cv2.imshow('pic1',thresh2)\n",
    "cv2.waitKey(0)\n",
    "cv2.destroyAllWindows()\n",
    "cv2.imwrite('thresh2.jpg',thresh2)"
   ]
  },
  {
   "cell_type": "code",
   "execution_count": 53,
   "id": "a4dd7626",
   "metadata": {},
   "outputs": [
    {
     "data": {
      "text/plain": [
       "True"
      ]
     },
     "execution_count": 53,
     "metadata": {},
     "output_type": "execute_result"
    }
   ],
   "source": [
    "average=numpy.mean(img)\n",
    "median=numpy.median(img)\n",
    "ret, thresh3=cv2.threshold(img,average,255,cv2.THRESH_BINARY)\n",
    "ret, thresh4=cv2.threshold(img,median,255,cv2.THRESH_BINARY)\n",
    "cv2.imwrite('thresh3.jpg',thresh3)\n",
    "cv2.imwrite('thresh4.jpg',thresh4)"
   ]
  },
  {
   "cell_type": "code",
   "execution_count": 54,
   "id": "74ee1315",
   "metadata": {},
   "outputs": [
    {
     "data": {
      "text/plain": [
       "256"
      ]
     },
     "execution_count": 54,
     "metadata": {},
     "output_type": "execute_result"
    }
   ],
   "source": [
    "h,w=img.shape[:2]\n",
    "h"
   ]
  },
  {
   "cell_type": "code",
   "execution_count": 55,
   "id": "7c35b650",
   "metadata": {},
   "outputs": [],
   "source": [
    "firstHalf=img[0:127,:]"
   ]
  },
  {
   "cell_type": "code",
   "execution_count": 56,
   "id": "6113f3fe",
   "metadata": {},
   "outputs": [
    {
     "data": {
      "text/plain": [
       "True"
      ]
     },
     "execution_count": 56,
     "metadata": {},
     "output_type": "execute_result"
    }
   ],
   "source": [
    "ret, half1=cv2.threshold(firstHalf,average,255,cv2.THRESH_BINARY)\n",
    "result=img.copy()\n",
    "result[:127,:]=half1\n",
    "cv2.imshow('result',result)\n",
    "cv2.waitKey(0)\n",
    "cv2.destroyAllWindows()\n",
    "cv2.imwrite('result.jpg',result)"
   ]
  },
  {
   "cell_type": "code",
   "execution_count": 1,
   "id": "33e0f2a8",
   "metadata": {},
   "outputs": [
    {
     "data": {
      "text/plain": [
       "'4.8.1'"
      ]
     },
     "execution_count": 1,
     "metadata": {},
     "output_type": "execute_result"
    }
   ],
   "source": [
    "import cv2\n",
    "cv2.__version__"
   ]
  },
  {
   "cell_type": "code",
   "execution_count": null,
   "id": "9f06618b",
   "metadata": {},
   "outputs": [],
   "source": []
  }
 ],
 "metadata": {
  "kernelspec": {
   "display_name": "Python 3 (ipykernel)",
   "language": "python",
   "name": "python3"
  },
  "language_info": {
   "codemirror_mode": {
    "name": "ipython",
    "version": 3
   },
   "file_extension": ".py",
   "mimetype": "text/x-python",
   "name": "python",
   "nbconvert_exporter": "python",
   "pygments_lexer": "ipython3",
   "version": "3.11.5"
  }
 },
 "nbformat": 4,
 "nbformat_minor": 5
}
